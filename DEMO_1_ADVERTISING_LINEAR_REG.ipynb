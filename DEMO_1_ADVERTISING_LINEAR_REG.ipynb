{
  "cells": [
    {
      "cell_type": "markdown",
      "metadata": {
        "id": "view-in-github",
        "colab_type": "text"
      },
      "source": [
        "<a href=\"https://colab.research.google.com/github/divi1287/ARIMA-Model/blob/main/DEMO_1_ADVERTISING_LINEAR_REG.ipynb\" target=\"_parent\"><img src=\"https://colab.research.google.com/assets/colab-badge.svg\" alt=\"Open In Colab\"/></a>"
      ]
    },
    {
      "cell_type": "markdown",
      "id": "af846aed",
      "metadata": {
        "id": "af846aed"
      },
      "source": [
        "## Import Libraries"
      ]
    },
    {
      "cell_type": "code",
      "execution_count": null,
      "id": "63d8266d",
      "metadata": {
        "ExecuteTime": {
          "end_time": "2022-04-14T15:01:36.584135Z",
          "start_time": "2022-04-14T15:01:33.168878Z"
        },
        "id": "63d8266d"
      },
      "outputs": [],
      "source": [
        "import pandas as pd \n",
        "import numpy as np\n",
        "import seaborn as sns\n",
        "import matplotlib.pyplot as plt\n",
        "sns.set()"
      ]
    },
    {
      "cell_type": "markdown",
      "id": "d27dae22",
      "metadata": {
        "id": "d27dae22"
      },
      "source": [
        "## Load the Advertising Dataset"
      ]
    },
    {
      "cell_type": "code",
      "execution_count": null,
      "id": "0768a54e",
      "metadata": {
        "ExecuteTime": {
          "end_time": "2022-04-14T15:01:54.709083Z",
          "start_time": "2022-04-14T15:01:54.661077Z"
        },
        "id": "0768a54e"
      },
      "outputs": [],
      "source": [
        "df = pd.read_csv('Advertising.csv')"
      ]
    },
    {
      "cell_type": "code",
      "execution_count": null,
      "id": "0a2f7bf5",
      "metadata": {
        "ExecuteTime": {
          "end_time": "2022-04-14T15:02:06.679043Z",
          "start_time": "2022-04-14T15:02:06.641024Z"
        },
        "id": "0a2f7bf5",
        "outputId": "89356135-0148-4244-d898-3e7fe38aa9a4"
      },
      "outputs": [
        {
          "data": {
            "text/html": [
              "<div>\n",
              "<style scoped>\n",
              "    .dataframe tbody tr th:only-of-type {\n",
              "        vertical-align: middle;\n",
              "    }\n",
              "\n",
              "    .dataframe tbody tr th {\n",
              "        vertical-align: top;\n",
              "    }\n",
              "\n",
              "    .dataframe thead th {\n",
              "        text-align: right;\n",
              "    }\n",
              "</style>\n",
              "<table border=\"1\" class=\"dataframe\">\n",
              "  <thead>\n",
              "    <tr style=\"text-align: right;\">\n",
              "      <th></th>\n",
              "      <th>Unnamed: 0</th>\n",
              "      <th>TV</th>\n",
              "      <th>radio</th>\n",
              "      <th>newspaper</th>\n",
              "      <th>sales</th>\n",
              "    </tr>\n",
              "  </thead>\n",
              "  <tbody>\n",
              "    <tr>\n",
              "      <th>0</th>\n",
              "      <td>1</td>\n",
              "      <td>230.1</td>\n",
              "      <td>37.8</td>\n",
              "      <td>69.2</td>\n",
              "      <td>22.1</td>\n",
              "    </tr>\n",
              "    <tr>\n",
              "      <th>1</th>\n",
              "      <td>2</td>\n",
              "      <td>44.5</td>\n",
              "      <td>39.3</td>\n",
              "      <td>45.1</td>\n",
              "      <td>10.4</td>\n",
              "    </tr>\n",
              "    <tr>\n",
              "      <th>2</th>\n",
              "      <td>3</td>\n",
              "      <td>17.2</td>\n",
              "      <td>45.9</td>\n",
              "      <td>69.3</td>\n",
              "      <td>9.3</td>\n",
              "    </tr>\n",
              "    <tr>\n",
              "      <th>3</th>\n",
              "      <td>4</td>\n",
              "      <td>151.5</td>\n",
              "      <td>41.3</td>\n",
              "      <td>58.5</td>\n",
              "      <td>18.5</td>\n",
              "    </tr>\n",
              "    <tr>\n",
              "      <th>4</th>\n",
              "      <td>5</td>\n",
              "      <td>180.8</td>\n",
              "      <td>10.8</td>\n",
              "      <td>58.4</td>\n",
              "      <td>12.9</td>\n",
              "    </tr>\n",
              "  </tbody>\n",
              "</table>\n",
              "</div>"
            ],
            "text/plain": [
              "   Unnamed: 0     TV  radio  newspaper  sales\n",
              "0           1  230.1   37.8       69.2   22.1\n",
              "1           2   44.5   39.3       45.1   10.4\n",
              "2           3   17.2   45.9       69.3    9.3\n",
              "3           4  151.5   41.3       58.5   18.5\n",
              "4           5  180.8   10.8       58.4   12.9"
            ]
          },
          "execution_count": 3,
          "metadata": {},
          "output_type": "execute_result"
        }
      ],
      "source": [
        "# head\n",
        "df.head()"
      ]
    },
    {
      "cell_type": "code",
      "execution_count": null,
      "id": "b839a03c",
      "metadata": {
        "ExecuteTime": {
          "end_time": "2022-04-14T15:03:09.951195Z",
          "start_time": "2022-04-14T15:03:09.921632Z"
        },
        "id": "b839a03c",
        "outputId": "16d020cf-dd04-4932-f722-e9940a20e7e7"
      },
      "outputs": [
        {
          "data": {
            "text/html": [
              "<div>\n",
              "<style scoped>\n",
              "    .dataframe tbody tr th:only-of-type {\n",
              "        vertical-align: middle;\n",
              "    }\n",
              "\n",
              "    .dataframe tbody tr th {\n",
              "        vertical-align: top;\n",
              "    }\n",
              "\n",
              "    .dataframe thead th {\n",
              "        text-align: right;\n",
              "    }\n",
              "</style>\n",
              "<table border=\"1\" class=\"dataframe\">\n",
              "  <thead>\n",
              "    <tr style=\"text-align: right;\">\n",
              "      <th></th>\n",
              "      <th>TV</th>\n",
              "      <th>radio</th>\n",
              "      <th>newspaper</th>\n",
              "      <th>sales</th>\n",
              "    </tr>\n",
              "  </thead>\n",
              "  <tbody>\n",
              "    <tr>\n",
              "      <th>0</th>\n",
              "      <td>230.1</td>\n",
              "      <td>37.8</td>\n",
              "      <td>69.2</td>\n",
              "      <td>22.1</td>\n",
              "    </tr>\n",
              "    <tr>\n",
              "      <th>1</th>\n",
              "      <td>44.5</td>\n",
              "      <td>39.3</td>\n",
              "      <td>45.1</td>\n",
              "      <td>10.4</td>\n",
              "    </tr>\n",
              "    <tr>\n",
              "      <th>2</th>\n",
              "      <td>17.2</td>\n",
              "      <td>45.9</td>\n",
              "      <td>69.3</td>\n",
              "      <td>9.3</td>\n",
              "    </tr>\n",
              "    <tr>\n",
              "      <th>3</th>\n",
              "      <td>151.5</td>\n",
              "      <td>41.3</td>\n",
              "      <td>58.5</td>\n",
              "      <td>18.5</td>\n",
              "    </tr>\n",
              "    <tr>\n",
              "      <th>4</th>\n",
              "      <td>180.8</td>\n",
              "      <td>10.8</td>\n",
              "      <td>58.4</td>\n",
              "      <td>12.9</td>\n",
              "    </tr>\n",
              "  </tbody>\n",
              "</table>\n",
              "</div>"
            ],
            "text/plain": [
              "      TV  radio  newspaper  sales\n",
              "0  230.1   37.8       69.2   22.1\n",
              "1   44.5   39.3       45.1   10.4\n",
              "2   17.2   45.9       69.3    9.3\n",
              "3  151.5   41.3       58.5   18.5\n",
              "4  180.8   10.8       58.4   12.9"
            ]
          },
          "execution_count": 4,
          "metadata": {},
          "output_type": "execute_result"
        }
      ],
      "source": [
        "# Drop unwanted features\n",
        "df.drop('Unnamed: 0', axis=1, inplace=True)\n",
        "df.head()"
      ]
    },
    {
      "cell_type": "markdown",
      "id": "a5ebd0cd",
      "metadata": {
        "id": "a5ebd0cd"
      },
      "source": [
        "## Describe the Data"
      ]
    },
    {
      "cell_type": "code",
      "execution_count": null,
      "id": "b1db3329",
      "metadata": {
        "ExecuteTime": {
          "end_time": "2022-04-14T15:03:50.002659Z",
          "start_time": "2022-04-14T15:03:49.948144Z"
        },
        "id": "b1db3329",
        "outputId": "4ea7c574-cbb9-47f6-b846-aa1d599baf69"
      },
      "outputs": [
        {
          "data": {
            "text/html": [
              "<div>\n",
              "<style scoped>\n",
              "    .dataframe tbody tr th:only-of-type {\n",
              "        vertical-align: middle;\n",
              "    }\n",
              "\n",
              "    .dataframe tbody tr th {\n",
              "        vertical-align: top;\n",
              "    }\n",
              "\n",
              "    .dataframe thead th {\n",
              "        text-align: right;\n",
              "    }\n",
              "</style>\n",
              "<table border=\"1\" class=\"dataframe\">\n",
              "  <thead>\n",
              "    <tr style=\"text-align: right;\">\n",
              "      <th></th>\n",
              "      <th>TV</th>\n",
              "      <th>radio</th>\n",
              "      <th>newspaper</th>\n",
              "      <th>sales</th>\n",
              "    </tr>\n",
              "  </thead>\n",
              "  <tbody>\n",
              "    <tr>\n",
              "      <th>count</th>\n",
              "      <td>200.00</td>\n",
              "      <td>200.00</td>\n",
              "      <td>200.00</td>\n",
              "      <td>200.00</td>\n",
              "    </tr>\n",
              "    <tr>\n",
              "      <th>mean</th>\n",
              "      <td>147.04</td>\n",
              "      <td>23.26</td>\n",
              "      <td>30.55</td>\n",
              "      <td>14.02</td>\n",
              "    </tr>\n",
              "    <tr>\n",
              "      <th>std</th>\n",
              "      <td>85.85</td>\n",
              "      <td>14.85</td>\n",
              "      <td>21.78</td>\n",
              "      <td>5.22</td>\n",
              "    </tr>\n",
              "    <tr>\n",
              "      <th>min</th>\n",
              "      <td>0.70</td>\n",
              "      <td>0.00</td>\n",
              "      <td>0.30</td>\n",
              "      <td>1.60</td>\n",
              "    </tr>\n",
              "    <tr>\n",
              "      <th>25%</th>\n",
              "      <td>74.38</td>\n",
              "      <td>9.98</td>\n",
              "      <td>12.75</td>\n",
              "      <td>10.38</td>\n",
              "    </tr>\n",
              "    <tr>\n",
              "      <th>50%</th>\n",
              "      <td>149.75</td>\n",
              "      <td>22.90</td>\n",
              "      <td>25.75</td>\n",
              "      <td>12.90</td>\n",
              "    </tr>\n",
              "    <tr>\n",
              "      <th>75%</th>\n",
              "      <td>218.82</td>\n",
              "      <td>36.52</td>\n",
              "      <td>45.10</td>\n",
              "      <td>17.40</td>\n",
              "    </tr>\n",
              "    <tr>\n",
              "      <th>max</th>\n",
              "      <td>296.40</td>\n",
              "      <td>49.60</td>\n",
              "      <td>114.00</td>\n",
              "      <td>27.00</td>\n",
              "    </tr>\n",
              "  </tbody>\n",
              "</table>\n",
              "</div>"
            ],
            "text/plain": [
              "           TV   radio  newspaper   sales\n",
              "count  200.00  200.00     200.00  200.00\n",
              "mean   147.04   23.26      30.55   14.02\n",
              "std     85.85   14.85      21.78    5.22\n",
              "min      0.70    0.00       0.30    1.60\n",
              "25%     74.38    9.98      12.75   10.38\n",
              "50%    149.75   22.90      25.75   12.90\n",
              "75%    218.82   36.52      45.10   17.40\n",
              "max    296.40   49.60     114.00   27.00"
            ]
          },
          "execution_count": 5,
          "metadata": {},
          "output_type": "execute_result"
        }
      ],
      "source": [
        "df.describe().round(2)"
      ]
    },
    {
      "cell_type": "markdown",
      "id": "d6dbdf73",
      "metadata": {
        "id": "d6dbdf73"
      },
      "source": [
        "## Check for outliers"
      ]
    },
    {
      "cell_type": "code",
      "execution_count": null,
      "id": "c998f6f4",
      "metadata": {
        "ExecuteTime": {
          "end_time": "2022-04-14T15:05:54.656330Z",
          "start_time": "2022-04-14T15:05:53.219069Z"
        },
        "id": "c998f6f4",
        "outputId": "67bf41d9-70e2-471f-de57-5c9a1b28d2a2"
      },
      "outputs": [
        {
          "data": {
            "image/png": "[encoded data removed]",
            "text/plain": [
              "<Figure size 1080x432 with 4 Axes>"
            ]
          },
          "metadata": {},
          "output_type": "display_data"
        }
      ],
      "source": [
        "df.plot(kind='box', subplots = True, figsize = (15,6));"
      ]
    },
    {
      "cell_type": "code",
      "execution_count": null,
      "id": "d7a69328",
      "metadata": {
        "ExecuteTime": {
          "end_time": "2022-04-14T15:09:31.257158Z",
          "start_time": "2022-04-14T15:09:31.221221Z"
        },
        "id": "d7a69328"
      },
      "outputs": [],
      "source": [
        "# Treat outliers\n",
        "q1,q3 = df['newspaper'].quantile([0.25,0.75]).round(2)\n",
        "IQR = q3 - q1\n",
        "\n",
        "UL = q3 + (1.5*IQR)\n",
        "\n",
        "df['newspaper'] = np.where(df['newspaper'] > UL, UL, df['newspaper'])"
      ]
    },
    {
      "cell_type": "code",
      "execution_count": null,
      "id": "48a6d928",
      "metadata": {
        "ExecuteTime": {
          "end_time": "2022-04-14T15:19:36.726800Z",
          "start_time": "2022-04-14T15:19:35.690489Z"
        },
        "id": "48a6d928",
        "outputId": "94f67398-7a1a-43ee-ac9d-ac06c231c56c"
      },
      "outputs": [
        {
          "data": {
            "image/png": "[encoded data removed]",
            "text/plain": [
              "<Figure size 1080x432 with 4 Axes>"
            ]
          },
          "metadata": {},
          "output_type": "display_data"
        }
      ],
      "source": [
        "# verifiy outlier treatment using boxplot\n",
        "df.plot(kind='box', subplots = True, figsize = (15,6));"
      ]
    },
    {
      "cell_type": "markdown",
      "id": "7315d967",
      "metadata": {
        "id": "7315d967"
      },
      "source": [
        "## Split the Data"
      ]
    },
    {
      "cell_type": "code",
      "execution_count": null,
      "id": "d3e84505",
      "metadata": {
        "ExecuteTime": {
          "end_time": "2022-04-14T15:21:22.218921Z",
          "start_time": "2022-04-14T15:21:22.203934Z"
        },
        "id": "d3e84505"
      },
      "outputs": [],
      "source": [
        "# split the data into X and y\n",
        "X = df.drop('sales', axis=1)\n",
        "y = df['sales']"
      ]
    },
    {
      "cell_type": "code",
      "execution_count": null,
      "id": "8795cc40",
      "metadata": {
        "ExecuteTime": {
          "end_time": "2022-04-14T15:24:08.253813Z",
          "start_time": "2022-04-14T15:24:08.232787Z"
        },
        "id": "8795cc40"
      },
      "outputs": [],
      "source": [
        "# split the data into train & test datasets\n",
        "from sklearn.model_selection import train_test_split\n",
        "X_train, X_test, y_train, y_test = train_test_split(X, y, test_size=0.2, random_state=1)\n"
      ]
    },
    {
      "cell_type": "markdown",
      "id": "a7c5b35c",
      "metadata": {
        "id": "a7c5b35c"
      },
      "source": [
        "## Train a Linear Regression Model"
      ]
    },
    {
      "cell_type": "code",
      "execution_count": null,
      "id": "5bd20acf",
      "metadata": {
        "ExecuteTime": {
          "end_time": "2022-04-14T15:27:59.724424Z",
          "start_time": "2022-04-14T15:27:59.670730Z"
        },
        "id": "5bd20acf",
        "outputId": "884150ca-896d-4445-f2f7-024d3f18b59d"
      },
      "outputs": [
        {
          "data": {
            "text/plain": [
              "LinearRegression()"
            ]
          },
          "execution_count": 11,
          "metadata": {},
          "output_type": "execute_result"
        }
      ],
      "source": [
        "# fit a Linear Regression model and get its prediction\n",
        "from sklearn.linear_model import LinearRegression\n",
        "\n",
        "lr = LinearRegression()\n",
        "lr.fit(X_train,y_train)"
      ]
    },
    {
      "cell_type": "markdown",
      "id": "90345c60",
      "metadata": {
        "id": "90345c60"
      },
      "source": [
        "## Coefficients of the model"
      ]
    },
    {
      "cell_type": "code",
      "execution_count": null,
      "id": "b7c7f358",
      "metadata": {
        "ExecuteTime": {
          "end_time": "2022-04-14T15:29:17.050535Z",
          "start_time": "2022-04-14T15:29:17.026677Z"
        },
        "id": "b7c7f358",
        "outputId": "cafb801f-58d7-44b1-e123-3a339200a6c7"
      },
      "outputs": [
        {
          "data": {
            "text/plain": [
              "array([0.04684555, 0.17855873, 0.0025706 ])"
            ]
          },
          "execution_count": 12,
          "metadata": {},
          "output_type": "execute_result"
        }
      ],
      "source": [
        "# get the coefficients\n",
        "lr.coef_"
      ]
    },
    {
      "cell_type": "code",
      "execution_count": null,
      "id": "047e5d5e",
      "metadata": {
        "ExecuteTime": {
          "end_time": "2022-04-14T15:29:51.441485Z",
          "start_time": "2022-04-14T15:29:51.420455Z"
        },
        "id": "047e5d5e",
        "outputId": "c3a74313-3202-4e3a-b6de-b0c677b34481"
      },
      "outputs": [
        {
          "data": {
            "text/plain": [
              "2.907847353537049"
            ]
          },
          "execution_count": 13,
          "metadata": {},
          "output_type": "execute_result"
        }
      ],
      "source": [
        "# get the intercept coefficient\n",
        "lr.intercept_"
      ]
    },
    {
      "cell_type": "markdown",
      "id": "d17c8dfe",
      "metadata": {
        "id": "d17c8dfe"
      },
      "source": [
        "## Interpreting Model Coefficients"
      ]
    },
    {
      "cell_type": "markdown",
      "id": "7cfc3830",
      "metadata": {
        "id": "7cfc3830"
      },
      "source": [
        "sales = 2.93 + 0.05*tv +0.18*radio + 0.002*newspaper"
      ]
    },
    {
      "cell_type": "markdown",
      "id": "7a4ec11e",
      "metadata": {
        "id": "7a4ec11e"
      },
      "source": [
        "## Evaluate the model performance"
      ]
    },
    {
      "cell_type": "code",
      "execution_count": null,
      "id": "0e1527b6",
      "metadata": {
        "ExecuteTime": {
          "end_time": "2022-04-14T15:34:05.519296Z",
          "start_time": "2022-04-14T15:34:05.508302Z"
        },
        "id": "0e1527b6"
      },
      "outputs": [],
      "source": [
        "from sklearn.metrics import mean_squared_error, r2_score"
      ]
    },
    {
      "cell_type": "code",
      "execution_count": null,
      "id": "e29035a5",
      "metadata": {
        "ExecuteTime": {
          "end_time": "2022-04-14T15:35:33.038982Z",
          "start_time": "2022-04-14T15:35:33.027500Z"
        },
        "id": "e29035a5"
      },
      "outputs": [],
      "source": [
        "train_pred = lr.predict(X_train)\n",
        "test_pred = lr.predict(X_test)"
      ]
    },
    {
      "cell_type": "code",
      "execution_count": null,
      "id": "ccf24208",
      "metadata": {
        "ExecuteTime": {
          "end_time": "2022-04-14T15:37:01.928283Z",
          "start_time": "2022-04-14T15:37:01.912788Z"
        },
        "id": "ccf24208",
        "outputId": "f8ee6940-3a60-40a0-d544-32bcd96193ae"
      },
      "outputs": [
        {
          "data": {
            "text/plain": [
              "(1.7369211682381989, 1.4109273462066865)"
            ]
          },
          "execution_count": 16,
          "metadata": {},
          "output_type": "execute_result"
        }
      ],
      "source": [
        "# calculate rmse for train and test data predictions\n",
        "rmse_train = mean_squared_error(y_train,train_pred, squared=False)\n",
        "rmse_test = mean_squared_error(y_test, test_pred, squared=False)\n",
        "rmse_train,rmse_test"
      ]
    },
    {
      "cell_type": "code",
      "execution_count": null,
      "id": "26c07b07",
      "metadata": {
        "ExecuteTime": {
          "end_time": "2022-04-14T15:38:16.060258Z",
          "start_time": "2022-04-14T15:38:16.050281Z"
        },
        "id": "26c07b07",
        "outputId": "34ba4dae-90a8-469c-c47d-97a8ef243025"
      },
      "outputs": [
        {
          "data": {
            "text/plain": [
              "(0.8959350370888584, 0.8928235592312672)"
            ]
          },
          "execution_count": 17,
          "metadata": {},
          "output_type": "execute_result"
        }
      ],
      "source": [
        "# calculate the residuals for the predictions = error in prediction\n",
        "residuals = y_test - test_pred\n",
        "residuals"
      ]
    },
    {
      "cell_type": "markdown",
      "id": "00560970",
      "metadata": {
        "id": "00560970"
      },
      "source": [
        "## Residuals of the Model"
      ]
    },
    {
      "cell_type": "code",
      "execution_count": null,
      "id": "aae49470",
      "metadata": {
        "ExecuteTime": {
          "end_time": "2022-04-14T15:40:21.740429Z",
          "start_time": "2022-04-14T15:40:21.722387Z"
        },
        "id": "aae49470",
        "outputId": "1a7a8aa4-0f9b-4196-c418-b37d9d98fda9"
      },
      "outputs": [
        {
          "data": {
            "text/plain": [
              "58     2.063686\n",
              "40     0.142838\n",
              "34     1.840029\n",
              "102   -3.092425\n",
              "184   -1.077667\n",
              "198    1.637114\n",
              "95     0.563834\n",
              "4     -0.556080\n",
              "29     1.323037\n",
              "168   -0.260431\n",
              "171    0.032336\n",
              "18     1.442945\n",
              "11     0.138721\n",
              "89    -0.018725\n",
              "110   -1.694993\n",
              "118    0.311258\n",
              "159    0.448170\n",
              "35    -4.479790\n",
              "136   -1.594790\n",
              "59     0.330406\n",
              "51     1.365441\n",
              "16    -0.359898\n",
              "44    -0.283937\n",
              "94     1.033099\n",
              "31     0.497143\n",
              "162   -0.131269\n",
              "38     0.315363\n",
              "28    -0.560828\n",
              "193    1.369594\n",
              "27    -1.296261\n",
              "47     1.596162\n",
              "165   -2.818216\n",
              "194    1.007260\n",
              "177   -0.664203\n",
              "176    0.211061\n",
              "97     0.124124\n",
              "174   -2.467072\n",
              "73     0.932094\n",
              "69     1.327389\n",
              "172    0.141249\n",
              "Name: sales, dtype: float64"
            ]
          },
          "execution_count": 18,
          "metadata": {},
          "output_type": "execute_result"
        }
      ],
      "source": [
        "# calculate the residuals for the predictions = error in prediction\n",
        "residuals = y_test - test_pred\n",
        "residuals"
      ]
    },
    {
      "cell_type": "markdown",
      "id": "e2facd11",
      "metadata": {
        "id": "e2facd11"
      },
      "source": [
        "## Linear Regression Using Statsmodels Library"
      ]
    },
    {
      "cell_type": "code",
      "execution_count": null,
      "id": "bc7dea62",
      "metadata": {
        "ExecuteTime": {
          "end_time": "2022-04-14T15:48:08.845034Z",
          "start_time": "2022-04-14T15:48:08.398494Z"
        },
        "id": "bc7dea62"
      },
      "outputs": [],
      "source": [
        "# import library\n",
        "from statsmodels.formula.api import ols"
      ]
    },
    {
      "cell_type": "code",
      "execution_count": null,
      "id": "9b25e821",
      "metadata": {
        "ExecuteTime": {
          "end_time": "2022-04-14T15:44:58.501730Z",
          "start_time": "2022-04-14T15:44:58.499225Z"
        },
        "id": "9b25e821"
      },
      "outputs": [],
      "source": [
        "# formula string\n",
        "formula = 'sales ~ TV + radio + newspaper'"
      ]
    },
    {
      "cell_type": "code",
      "execution_count": null,
      "id": "37f2cee9",
      "metadata": {
        "ExecuteTime": {
          "end_time": "2022-04-14T15:46:29.493572Z",
          "start_time": "2022-04-14T15:46:29.484084Z"
        },
        "id": "37f2cee9"
      },
      "outputs": [],
      "source": [
        "# statsmodels requires that all indep variables and target variable be in a single dataframe\n",
        "# so joining back together the indep & tgt vars of train & test datasets\n",
        "df_train = pd.concat([X_train,y_train], axis=1)\n",
        "df_test = pd.concat([X_test,y_test], axis=1)\n"
      ]
    },
    {
      "cell_type": "code",
      "execution_count": null,
      "id": "8a330066",
      "metadata": {
        "ExecuteTime": {
          "end_time": "2022-04-14T15:46:42.815801Z",
          "start_time": "2022-04-14T15:46:42.775766Z"
        },
        "id": "8a330066",
        "outputId": "9f75b177-5e3d-4035-bda2-4850503d34ab"
      },
      "outputs": [
        {
          "data": {
            "text/html": [
              "<div>\n",
              "<style scoped>\n",
              "    .dataframe tbody tr th:only-of-type {\n",
              "        vertical-align: middle;\n",
              "    }\n",
              "\n",
              "    .dataframe tbody tr th {\n",
              "        vertical-align: top;\n",
              "    }\n",
              "\n",
              "    .dataframe thead th {\n",
              "        text-align: right;\n",
              "    }\n",
              "</style>\n",
              "<table border=\"1\" class=\"dataframe\">\n",
              "  <thead>\n",
              "    <tr style=\"text-align: right;\">\n",
              "      <th></th>\n",
              "      <th>TV</th>\n",
              "      <th>radio</th>\n",
              "      <th>newspaper</th>\n",
              "      <th>sales</th>\n",
              "    </tr>\n",
              "  </thead>\n",
              "  <tbody>\n",
              "    <tr>\n",
              "      <th>108</th>\n",
              "      <td>13.1</td>\n",
              "      <td>0.4</td>\n",
              "      <td>25.6</td>\n",
              "      <td>5.3</td>\n",
              "    </tr>\n",
              "    <tr>\n",
              "      <th>107</th>\n",
              "      <td>90.4</td>\n",
              "      <td>0.3</td>\n",
              "      <td>23.2</td>\n",
              "      <td>8.7</td>\n",
              "    </tr>\n",
              "    <tr>\n",
              "      <th>189</th>\n",
              "      <td>18.7</td>\n",
              "      <td>12.1</td>\n",
              "      <td>23.4</td>\n",
              "      <td>6.7</td>\n",
              "    </tr>\n",
              "    <tr>\n",
              "      <th>14</th>\n",
              "      <td>204.1</td>\n",
              "      <td>32.9</td>\n",
              "      <td>46.0</td>\n",
              "      <td>19.0</td>\n",
              "    </tr>\n",
              "    <tr>\n",
              "      <th>56</th>\n",
              "      <td>7.3</td>\n",
              "      <td>28.1</td>\n",
              "      <td>41.4</td>\n",
              "      <td>5.5</td>\n",
              "    </tr>\n",
              "    <tr>\n",
              "      <th>...</th>\n",
              "      <td>...</td>\n",
              "      <td>...</td>\n",
              "      <td>...</td>\n",
              "      <td>...</td>\n",
              "    </tr>\n",
              "    <tr>\n",
              "      <th>133</th>\n",
              "      <td>219.8</td>\n",
              "      <td>33.5</td>\n",
              "      <td>45.1</td>\n",
              "      <td>19.6</td>\n",
              "    </tr>\n",
              "    <tr>\n",
              "      <th>137</th>\n",
              "      <td>273.7</td>\n",
              "      <td>28.9</td>\n",
              "      <td>59.7</td>\n",
              "      <td>20.8</td>\n",
              "    </tr>\n",
              "    <tr>\n",
              "      <th>72</th>\n",
              "      <td>26.8</td>\n",
              "      <td>33.0</td>\n",
              "      <td>19.3</td>\n",
              "      <td>8.8</td>\n",
              "    </tr>\n",
              "    <tr>\n",
              "      <th>140</th>\n",
              "      <td>73.4</td>\n",
              "      <td>17.0</td>\n",
              "      <td>12.9</td>\n",
              "      <td>10.9</td>\n",
              "    </tr>\n",
              "    <tr>\n",
              "      <th>37</th>\n",
              "      <td>74.7</td>\n",
              "      <td>49.4</td>\n",
              "      <td>45.7</td>\n",
              "      <td>14.7</td>\n",
              "    </tr>\n",
              "  </tbody>\n",
              "</table>\n",
              "<p>160 rows × 4 columns</p>\n",
              "</div>"
            ],
            "text/plain": [
              "        TV  radio  newspaper  sales\n",
              "108   13.1    0.4       25.6    5.3\n",
              "107   90.4    0.3       23.2    8.7\n",
              "189   18.7   12.1       23.4    6.7\n",
              "14   204.1   32.9       46.0   19.0\n",
              "56     7.3   28.1       41.4    5.5\n",
              "..     ...    ...        ...    ...\n",
              "133  219.8   33.5       45.1   19.6\n",
              "137  273.7   28.9       59.7   20.8\n",
              "72    26.8   33.0       19.3    8.8\n",
              "140   73.4   17.0       12.9   10.9\n",
              "37    74.7   49.4       45.7   14.7\n",
              "\n",
              "[160 rows x 4 columns]"
            ]
          },
          "execution_count": 21,
          "metadata": {},
          "output_type": "execute_result"
        }
      ],
      "source": [
        "df_train"
      ]
    },
    {
      "cell_type": "code",
      "execution_count": null,
      "id": "688c5234",
      "metadata": {
        "ExecuteTime": {
          "end_time": "2022-04-14T15:48:13.655025Z",
          "start_time": "2022-04-14T15:48:13.612049Z"
        },
        "id": "688c5234"
      },
      "outputs": [],
      "source": [
        "# train the model\n",
        "\n",
        "model = ols(formula, df_train).fit()"
      ]
    },
    {
      "cell_type": "code",
      "execution_count": null,
      "id": "35f8ee9d",
      "metadata": {
        "ExecuteTime": {
          "end_time": "2022-04-14T15:48:32.071152Z",
          "start_time": "2022-04-14T15:48:32.022642Z"
        },
        "id": "35f8ee9d",
        "outputId": "e50371ce-138e-4675-c494-fae590e02ba2"
      },
      "outputs": [
        {
          "data": {
            "text/html": [
              "<table class=\"simpletable\">\n",
              "<caption>OLS Regression Results</caption>\n",
              "<tr>\n",
              "  <th>Dep. Variable:</th>          <td>sales</td>      <th>  R-squared:         </th> <td>   0.896</td>\n",
              "</tr>\n",
              "<tr>\n",
              "  <th>Model:</th>                   <td>OLS</td>       <th>  Adj. R-squared:    </th> <td>   0.894</td>\n",
              "</tr>\n",
              "<tr>\n",
              "  <th>Method:</th>             <td>Least Squares</td>  <th>  F-statistic:       </th> <td>   447.7</td>\n",
              "</tr>\n",
              "<tr>\n",
              "  <th>Date:</th>             <td>Thu, 14 Apr 2022</td> <th>  Prob (F-statistic):</th> <td>2.12e-76</td>\n",
              "</tr>\n",
              "<tr>\n",
              "  <th>Time:</th>                 <td>21:18:32</td>     <th>  Log-Likelihood:    </th> <td> -315.37</td>\n",
              "</tr>\n",
              "<tr>\n",
              "  <th>No. Observations:</th>      <td>   160</td>      <th>  AIC:               </th> <td>   638.7</td>\n",
              "</tr>\n",
              "<tr>\n",
              "  <th>Df Residuals:</th>          <td>   156</td>      <th>  BIC:               </th> <td>   651.0</td>\n",
              "</tr>\n",
              "<tr>\n",
              "  <th>Df Model:</th>              <td>     3</td>      <th>                     </th>     <td> </td>   \n",
              "</tr>\n",
              "<tr>\n",
              "  <th>Covariance Type:</th>      <td>nonrobust</td>    <th>                     </th>     <td> </td>   \n",
              "</tr>\n",
              "</table>\n",
              "<table class=\"simpletable\">\n",
              "<tr>\n",
              "      <td></td>         <th>coef</th>     <th>std err</th>      <th>t</th>      <th>P>|t|</th>  <th>[0.025</th>    <th>0.975]</th>  \n",
              "</tr>\n",
              "<tr>\n",
              "  <th>Intercept</th> <td>    2.9078</td> <td>    0.349</td> <td>    8.325</td> <td> 0.000</td> <td>    2.218</td> <td>    3.598</td>\n",
              "</tr>\n",
              "<tr>\n",
              "  <th>TV</th>        <td>    0.0468</td> <td>    0.002</td> <td>   29.318</td> <td> 0.000</td> <td>    0.044</td> <td>    0.050</td>\n",
              "</tr>\n",
              "<tr>\n",
              "  <th>radio</th>     <td>    0.1786</td> <td>    0.010</td> <td>   17.742</td> <td> 0.000</td> <td>    0.159</td> <td>    0.198</td>\n",
              "</tr>\n",
              "<tr>\n",
              "  <th>newspaper</th> <td>    0.0026</td> <td>    0.007</td> <td>    0.351</td> <td> 0.726</td> <td>   -0.012</td> <td>    0.017</td>\n",
              "</tr>\n",
              "</table>\n",
              "<table class=\"simpletable\">\n",
              "<tr>\n",
              "  <th>Omnibus:</th>       <td>44.441</td> <th>  Durbin-Watson:     </th> <td>   2.097</td>\n",
              "</tr>\n",
              "<tr>\n",
              "  <th>Prob(Omnibus):</th> <td> 0.000</td> <th>  Jarque-Bera (JB):  </th> <td>  89.901</td>\n",
              "</tr>\n",
              "<tr>\n",
              "  <th>Skew:</th>          <td>-1.257</td> <th>  Prob(JB):          </th> <td>3.01e-20</td>\n",
              "</tr>\n",
              "<tr>\n",
              "  <th>Kurtosis:</th>      <td> 5.676</td> <th>  Cond. No.          </th> <td>    428.</td>\n",
              "</tr>\n",
              "</table><br/><br/>Notes:<br/>[1] Standard Errors assume that the covariance matrix of the errors is correctly specified."
            ],
            "text/plain": [
              "<class 'statsmodels.iolib.summary.Summary'>\n",
              "\"\"\"\n",
              "                            OLS Regression Results                            \n",
              "==============================================================================\n",
              "Dep. Variable:                  sales   R-squared:                       0.896\n",
              "Model:                            OLS   Adj. R-squared:                  0.894\n",
              "Method:                 Least Squares   F-statistic:                     447.7\n",
              "Date:                Thu, 14 Apr 2022   Prob (F-statistic):           2.12e-76\n",
              "Time:                        21:18:32   Log-Likelihood:                -315.37\n",
              "No. Observations:                 160   AIC:                             638.7\n",
              "Df Residuals:                     156   BIC:                             651.0\n",
              "Df Model:                           3                                         \n",
              "Covariance Type:            nonrobust                                         \n",
              "==============================================================================\n",
              "                 coef    std err          t      P>|t|      [0.025      0.975]\n",
              "------------------------------------------------------------------------------\n",
              "Intercept      2.9078      0.349      8.325      0.000       2.218       3.598\n",
              "TV             0.0468      0.002     29.318      0.000       0.044       0.050\n",
              "radio          0.1786      0.010     17.742      0.000       0.159       0.198\n",
              "newspaper      0.0026      0.007      0.351      0.726      -0.012       0.017\n",
              "==============================================================================\n",
              "Omnibus:                       44.441   Durbin-Watson:                   2.097\n",
              "Prob(Omnibus):                  0.000   Jarque-Bera (JB):               89.901\n",
              "Skew:                          -1.257   Prob(JB):                     3.01e-20\n",
              "Kurtosis:                       5.676   Cond. No.                         428.\n",
              "==============================================================================\n",
              "\n",
              "Notes:\n",
              "[1] Standard Errors assume that the covariance matrix of the errors is correctly specified.\n",
              "\"\"\""
            ]
          },
          "execution_count": 25,
          "metadata": {},
          "output_type": "execute_result"
        }
      ],
      "source": [
        "# model summary\n",
        "model.summary()"
      ]
    },
    {
      "cell_type": "code",
      "execution_count": null,
      "id": "e39893a4",
      "metadata": {
        "id": "e39893a4"
      },
      "outputs": [],
      "source": [
        "# passing the test dataset without the tgt variable to get predictions\n"
      ]
    },
    {
      "cell_type": "code",
      "execution_count": null,
      "id": "fad1a9ce",
      "metadata": {
        "id": "fad1a9ce"
      },
      "outputs": [],
      "source": [
        ""
      ]
    }
  ],
  "metadata": {
    "kernelspec": {
      "display_name": "Python 3",
      "language": "python",
      "name": "python3"
    },
    "language_info": {
      "codemirror_mode": {
        "name": "ipython",
        "version": 3
      },
      "file_extension": ".py",
      "mimetype": "text/x-python",
      "name": "python",
      "nbconvert_exporter": "python",
      "pygments_lexer": "ipython3",
      "version": "3.8.8"
    },
    "toc": {
      "base_numbering": 1,
      "nav_menu": {},
      "number_sections": true,
      "sideBar": true,
      "skip_h1_title": true,
      "title_cell": "Table of Contents",
      "title_sidebar": "Contents",
      "toc_cell": false,
      "toc_position": {},
      "toc_section_display": true,
      "toc_window_display": false
    },
    "colab": {
      "name": "DEMO_1_ADVERTISING_LINEAR_REG.ipynb",
      "provenance": [],
      "include_colab_link": true
    }
  },
  "nbformat": 4,
  "nbformat_minor": 5
}