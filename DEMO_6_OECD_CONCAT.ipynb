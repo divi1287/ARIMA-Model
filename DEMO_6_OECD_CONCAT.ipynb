{
  "cells": [
    {
      "cell_type": "markdown",
      "metadata": {
        "id": "view-in-github",
        "colab_type": "text"
      },
      "source": [
        "<a href=\"https://colab.research.google.com/github/divi1287/ARIMA-Model/blob/main/DEMO_6_OECD_CONCAT.ipynb\" target=\"_parent\"><img src=\"https://colab.research.google.com/assets/colab-badge.svg\" alt=\"Open In Colab\"/></a>"
      ]
    },
    {
      "cell_type": "markdown",
      "id": "19e43950",
      "metadata": {
        "id": "19e43950"
      },
      "source": [
        "## Import Libraries"
      ]
    },
    {
      "cell_type": "code",
      "execution_count": null,
      "id": "f080cd13",
      "metadata": {
        "ExecuteTime": {
          "end_time": "2022-04-13T15:34:36.895072Z",
          "start_time": "2022-04-13T15:34:35.798569Z"
        },
        "id": "f080cd13"
      },
      "outputs": [],
      "source": [
        "import pandas as pd \n",
        "import numpy as np"
      ]
    },
    {
      "cell_type": "markdown",
      "id": "edf4892c",
      "metadata": {
        "id": "edf4892c"
      },
      "source": [
        "## Load the Data"
      ]
    },
    {
      "cell_type": "code",
      "execution_count": null,
      "id": "4ca808fa",
      "metadata": {
        "ExecuteTime": {
          "end_time": "2022-04-13T15:35:24.712809Z",
          "start_time": "2022-04-13T15:35:24.643302Z"
        },
        "id": "4ca808fa"
      },
      "outputs": [],
      "source": [
        "# load the datasets\n",
        "nam = pd.read_csv('north_america_2000_2010.csv')\n",
        "sam = pd.read_csv('south_america_2000_2010.csv')"
      ]
    },
    {
      "cell_type": "code",
      "execution_count": null,
      "id": "1907e168",
      "metadata": {
        "ExecuteTime": {
          "end_time": "2022-04-13T15:35:32.251801Z",
          "start_time": "2022-04-13T15:35:32.186782Z"
        },
        "id": "1907e168",
        "outputId": "fc756d01-ae92-4d29-bb64-454e32b7765e"
      },
      "outputs": [
        {
          "data": {
            "text/html": [
              "<div>\n",
              "<style scoped>\n",
              "    .dataframe tbody tr th:only-of-type {\n",
              "        vertical-align: middle;\n",
              "    }\n",
              "\n",
              "    .dataframe tbody tr th {\n",
              "        vertical-align: top;\n",
              "    }\n",
              "\n",
              "    .dataframe thead th {\n",
              "        text-align: right;\n",
              "    }\n",
              "</style>\n",
              "<table border=\"1\" class=\"dataframe\">\n",
              "  <thead>\n",
              "    <tr style=\"text-align: right;\">\n",
              "      <th></th>\n",
              "      <th>Country</th>\n",
              "      <th>2000</th>\n",
              "      <th>2001</th>\n",
              "      <th>2002</th>\n",
              "      <th>2003</th>\n",
              "      <th>2004</th>\n",
              "      <th>2005</th>\n",
              "      <th>2006</th>\n",
              "      <th>2007</th>\n",
              "      <th>2008</th>\n",
              "      <th>2009</th>\n",
              "      <th>2010</th>\n",
              "    </tr>\n",
              "  </thead>\n",
              "  <tbody>\n",
              "    <tr>\n",
              "      <th>0</th>\n",
              "      <td>Canada</td>\n",
              "      <td>1779.0</td>\n",
              "      <td>1771.0</td>\n",
              "      <td>1754.0</td>\n",
              "      <td>1740.0</td>\n",
              "      <td>1760.0</td>\n",
              "      <td>1747</td>\n",
              "      <td>1745.0</td>\n",
              "      <td>1741.0</td>\n",
              "      <td>1735</td>\n",
              "      <td>1701.0</td>\n",
              "      <td>1703.0</td>\n",
              "    </tr>\n",
              "    <tr>\n",
              "      <th>1</th>\n",
              "      <td>Mexico</td>\n",
              "      <td>2311.2</td>\n",
              "      <td>2285.2</td>\n",
              "      <td>2271.2</td>\n",
              "      <td>2276.5</td>\n",
              "      <td>2270.6</td>\n",
              "      <td>2281</td>\n",
              "      <td>2280.6</td>\n",
              "      <td>2261.4</td>\n",
              "      <td>2258</td>\n",
              "      <td>2250.2</td>\n",
              "      <td>2242.4</td>\n",
              "    </tr>\n",
              "    <tr>\n",
              "      <th>2</th>\n",
              "      <td>USA</td>\n",
              "      <td>1836.0</td>\n",
              "      <td>1814.0</td>\n",
              "      <td>1810.0</td>\n",
              "      <td>1800.0</td>\n",
              "      <td>1802.0</td>\n",
              "      <td>1799</td>\n",
              "      <td>1800.0</td>\n",
              "      <td>1798.0</td>\n",
              "      <td>1792</td>\n",
              "      <td>1767.0</td>\n",
              "      <td>1778.0</td>\n",
              "    </tr>\n",
              "  </tbody>\n",
              "</table>\n",
              "</div>"
            ],
            "text/plain": [
              "  Country    2000    2001    2002    2003    2004  2005    2006    2007  2008  \\\n",
              "0  Canada  1779.0  1771.0  1754.0  1740.0  1760.0  1747  1745.0  1741.0  1735   \n",
              "1  Mexico  2311.2  2285.2  2271.2  2276.5  2270.6  2281  2280.6  2261.4  2258   \n",
              "2     USA  1836.0  1814.0  1810.0  1800.0  1802.0  1799  1800.0  1798.0  1792   \n",
              "\n",
              "     2009    2010  \n",
              "0  1701.0  1703.0  \n",
              "1  2250.2  2242.4  \n",
              "2  1767.0  1778.0  "
            ]
          },
          "execution_count": 3,
          "metadata": {},
          "output_type": "execute_result"
        }
      ],
      "source": [
        "# print the dataframes\n",
        "nam"
      ]
    },
    {
      "cell_type": "code",
      "execution_count": null,
      "id": "adf40119",
      "metadata": {
        "ExecuteTime": {
          "end_time": "2022-04-13T15:35:49.072247Z",
          "start_time": "2022-04-13T15:35:49.044760Z"
        },
        "id": "adf40119",
        "outputId": "4402c19b-da79-4c26-efa0-27308c26e893"
      },
      "outputs": [
        {
          "data": {
            "text/html": [
              "<div>\n",
              "<style scoped>\n",
              "    .dataframe tbody tr th:only-of-type {\n",
              "        vertical-align: middle;\n",
              "    }\n",
              "\n",
              "    .dataframe tbody tr th {\n",
              "        vertical-align: top;\n",
              "    }\n",
              "\n",
              "    .dataframe thead th {\n",
              "        text-align: right;\n",
              "    }\n",
              "</style>\n",
              "<table border=\"1\" class=\"dataframe\">\n",
              "  <thead>\n",
              "    <tr style=\"text-align: right;\">\n",
              "      <th></th>\n",
              "      <th>Country</th>\n",
              "      <th>2000</th>\n",
              "      <th>2001</th>\n",
              "      <th>2002</th>\n",
              "      <th>2003</th>\n",
              "      <th>2004</th>\n",
              "      <th>2005</th>\n",
              "      <th>2006</th>\n",
              "      <th>2007</th>\n",
              "      <th>2008</th>\n",
              "      <th>2009</th>\n",
              "      <th>2010</th>\n",
              "    </tr>\n",
              "  </thead>\n",
              "  <tbody>\n",
              "    <tr>\n",
              "      <th>0</th>\n",
              "      <td>Chile</td>\n",
              "      <td>2263</td>\n",
              "      <td>2242</td>\n",
              "      <td>2250</td>\n",
              "      <td>2235</td>\n",
              "      <td>2232</td>\n",
              "      <td>2157</td>\n",
              "      <td>2165</td>\n",
              "      <td>2128</td>\n",
              "      <td>2095</td>\n",
              "      <td>2074</td>\n",
              "      <td>2069.6</td>\n",
              "    </tr>\n",
              "  </tbody>\n",
              "</table>\n",
              "</div>"
            ],
            "text/plain": [
              "  Country  2000  2001  2002  2003  2004  2005  2006  2007  2008  2009    2010\n",
              "0   Chile  2263  2242  2250  2235  2232  2157  2165  2128  2095  2074  2069.6"
            ]
          },
          "execution_count": 4,
          "metadata": {},
          "output_type": "execute_result"
        }
      ],
      "source": [
        "sam"
      ]
    },
    {
      "cell_type": "markdown",
      "id": "d72fad85",
      "metadata": {
        "id": "d72fad85"
      },
      "source": [
        "## Concatenate both Tables"
      ]
    },
    {
      "cell_type": "code",
      "execution_count": null,
      "id": "26de7366",
      "metadata": {
        "ExecuteTime": {
          "end_time": "2022-04-13T15:36:18.478526Z",
          "start_time": "2022-04-13T15:36:18.436532Z"
        },
        "id": "26de7366",
        "outputId": "4a32ca6a-5d53-409b-806d-4f62e6e304f0"
      },
      "outputs": [
        {
          "data": {
            "text/html": [
              "<div>\n",
              "<style scoped>\n",
              "    .dataframe tbody tr th:only-of-type {\n",
              "        vertical-align: middle;\n",
              "    }\n",
              "\n",
              "    .dataframe tbody tr th {\n",
              "        vertical-align: top;\n",
              "    }\n",
              "\n",
              "    .dataframe thead th {\n",
              "        text-align: right;\n",
              "    }\n",
              "</style>\n",
              "<table border=\"1\" class=\"dataframe\">\n",
              "  <thead>\n",
              "    <tr style=\"text-align: right;\">\n",
              "      <th></th>\n",
              "      <th>Country</th>\n",
              "      <th>2000</th>\n",
              "      <th>2001</th>\n",
              "      <th>2002</th>\n",
              "      <th>2003</th>\n",
              "      <th>2004</th>\n",
              "      <th>2005</th>\n",
              "      <th>2006</th>\n",
              "      <th>2007</th>\n",
              "      <th>2008</th>\n",
              "      <th>2009</th>\n",
              "      <th>2010</th>\n",
              "    </tr>\n",
              "  </thead>\n",
              "  <tbody>\n",
              "    <tr>\n",
              "      <th>0</th>\n",
              "      <td>Canada</td>\n",
              "      <td>1779.0</td>\n",
              "      <td>1771.0</td>\n",
              "      <td>1754.0</td>\n",
              "      <td>1740.0</td>\n",
              "      <td>1760.0</td>\n",
              "      <td>1747</td>\n",
              "      <td>1745.0</td>\n",
              "      <td>1741.0</td>\n",
              "      <td>1735</td>\n",
              "      <td>1701.0</td>\n",
              "      <td>1703.0</td>\n",
              "    </tr>\n",
              "    <tr>\n",
              "      <th>1</th>\n",
              "      <td>Mexico</td>\n",
              "      <td>2311.2</td>\n",
              "      <td>2285.2</td>\n",
              "      <td>2271.2</td>\n",
              "      <td>2276.5</td>\n",
              "      <td>2270.6</td>\n",
              "      <td>2281</td>\n",
              "      <td>2280.6</td>\n",
              "      <td>2261.4</td>\n",
              "      <td>2258</td>\n",
              "      <td>2250.2</td>\n",
              "      <td>2242.4</td>\n",
              "    </tr>\n",
              "    <tr>\n",
              "      <th>2</th>\n",
              "      <td>USA</td>\n",
              "      <td>1836.0</td>\n",
              "      <td>1814.0</td>\n",
              "      <td>1810.0</td>\n",
              "      <td>1800.0</td>\n",
              "      <td>1802.0</td>\n",
              "      <td>1799</td>\n",
              "      <td>1800.0</td>\n",
              "      <td>1798.0</td>\n",
              "      <td>1792</td>\n",
              "      <td>1767.0</td>\n",
              "      <td>1778.0</td>\n",
              "    </tr>\n",
              "    <tr>\n",
              "      <th>0</th>\n",
              "      <td>Chile</td>\n",
              "      <td>2263.0</td>\n",
              "      <td>2242.0</td>\n",
              "      <td>2250.0</td>\n",
              "      <td>2235.0</td>\n",
              "      <td>2232.0</td>\n",
              "      <td>2157</td>\n",
              "      <td>2165.0</td>\n",
              "      <td>2128.0</td>\n",
              "      <td>2095</td>\n",
              "      <td>2074.0</td>\n",
              "      <td>2069.6</td>\n",
              "    </tr>\n",
              "  </tbody>\n",
              "</table>\n",
              "</div>"
            ],
            "text/plain": [
              "  Country    2000    2001    2002    2003    2004  2005    2006    2007  2008  \\\n",
              "0  Canada  1779.0  1771.0  1754.0  1740.0  1760.0  1747  1745.0  1741.0  1735   \n",
              "1  Mexico  2311.2  2285.2  2271.2  2276.5  2270.6  2281  2280.6  2261.4  2258   \n",
              "2     USA  1836.0  1814.0  1810.0  1800.0  1802.0  1799  1800.0  1798.0  1792   \n",
              "0   Chile  2263.0  2242.0  2250.0  2235.0  2232.0  2157  2165.0  2128.0  2095   \n",
              "\n",
              "     2009    2010  \n",
              "0  1701.0  1703.0  \n",
              "1  2250.2  2242.4  \n",
              "2  1767.0  1778.0  \n",
              "0  2074.0  2069.6  "
            ]
          },
          "execution_count": 5,
          "metadata": {},
          "output_type": "execute_result"
        }
      ],
      "source": [
        "pd.concat([nam,sam])"
      ]
    },
    {
      "cell_type": "code",
      "execution_count": null,
      "id": "7e18c4ec",
      "metadata": {
        "ExecuteTime": {
          "end_time": "2022-04-13T15:37:21.349426Z",
          "start_time": "2022-04-13T15:37:21.293138Z"
        },
        "id": "7e18c4ec",
        "outputId": "92f97169-565c-4412-e8b5-c8e2d3eb00cc"
      },
      "outputs": [
        {
          "data": {
            "text/html": [
              "<div>\n",
              "<style scoped>\n",
              "    .dataframe tbody tr th:only-of-type {\n",
              "        vertical-align: middle;\n",
              "    }\n",
              "\n",
              "    .dataframe tbody tr th {\n",
              "        vertical-align: top;\n",
              "    }\n",
              "\n",
              "    .dataframe thead th {\n",
              "        text-align: right;\n",
              "    }\n",
              "</style>\n",
              "<table border=\"1\" class=\"dataframe\">\n",
              "  <thead>\n",
              "    <tr style=\"text-align: right;\">\n",
              "      <th></th>\n",
              "      <th>Country</th>\n",
              "      <th>2000</th>\n",
              "      <th>2001</th>\n",
              "      <th>2002</th>\n",
              "      <th>2003</th>\n",
              "      <th>2004</th>\n",
              "      <th>2005</th>\n",
              "      <th>2006</th>\n",
              "      <th>2007</th>\n",
              "      <th>2008</th>\n",
              "      <th>2009</th>\n",
              "      <th>2010</th>\n",
              "    </tr>\n",
              "  </thead>\n",
              "  <tbody>\n",
              "    <tr>\n",
              "      <th>0</th>\n",
              "      <td>Canada</td>\n",
              "      <td>1779.0</td>\n",
              "      <td>1771.0</td>\n",
              "      <td>1754.0</td>\n",
              "      <td>1740.0</td>\n",
              "      <td>1760.0</td>\n",
              "      <td>1747</td>\n",
              "      <td>1745.0</td>\n",
              "      <td>1741.0</td>\n",
              "      <td>1735</td>\n",
              "      <td>1701.0</td>\n",
              "      <td>1703.0</td>\n",
              "    </tr>\n",
              "    <tr>\n",
              "      <th>1</th>\n",
              "      <td>Mexico</td>\n",
              "      <td>2311.2</td>\n",
              "      <td>2285.2</td>\n",
              "      <td>2271.2</td>\n",
              "      <td>2276.5</td>\n",
              "      <td>2270.6</td>\n",
              "      <td>2281</td>\n",
              "      <td>2280.6</td>\n",
              "      <td>2261.4</td>\n",
              "      <td>2258</td>\n",
              "      <td>2250.2</td>\n",
              "      <td>2242.4</td>\n",
              "    </tr>\n",
              "    <tr>\n",
              "      <th>2</th>\n",
              "      <td>USA</td>\n",
              "      <td>1836.0</td>\n",
              "      <td>1814.0</td>\n",
              "      <td>1810.0</td>\n",
              "      <td>1800.0</td>\n",
              "      <td>1802.0</td>\n",
              "      <td>1799</td>\n",
              "      <td>1800.0</td>\n",
              "      <td>1798.0</td>\n",
              "      <td>1792</td>\n",
              "      <td>1767.0</td>\n",
              "      <td>1778.0</td>\n",
              "    </tr>\n",
              "    <tr>\n",
              "      <th>3</th>\n",
              "      <td>Chile</td>\n",
              "      <td>2263.0</td>\n",
              "      <td>2242.0</td>\n",
              "      <td>2250.0</td>\n",
              "      <td>2235.0</td>\n",
              "      <td>2232.0</td>\n",
              "      <td>2157</td>\n",
              "      <td>2165.0</td>\n",
              "      <td>2128.0</td>\n",
              "      <td>2095</td>\n",
              "      <td>2074.0</td>\n",
              "      <td>2069.6</td>\n",
              "    </tr>\n",
              "  </tbody>\n",
              "</table>\n",
              "</div>"
            ],
            "text/plain": [
              "  Country    2000    2001    2002    2003    2004  2005    2006    2007  2008  \\\n",
              "0  Canada  1779.0  1771.0  1754.0  1740.0  1760.0  1747  1745.0  1741.0  1735   \n",
              "1  Mexico  2311.2  2285.2  2271.2  2276.5  2270.6  2281  2280.6  2261.4  2258   \n",
              "2     USA  1836.0  1814.0  1810.0  1800.0  1802.0  1799  1800.0  1798.0  1792   \n",
              "3   Chile  2263.0  2242.0  2250.0  2235.0  2232.0  2157  2165.0  2128.0  2095   \n",
              "\n",
              "     2009    2010  \n",
              "0  1701.0  1703.0  \n",
              "1  2250.2  2242.4  \n",
              "2  1767.0  1778.0  \n",
              "3  2074.0  2069.6  "
            ]
          },
          "execution_count": 6,
          "metadata": {},
          "output_type": "execute_result"
        }
      ],
      "source": [
        "pd.concat([nam,sam],ignore_index=True)"
      ]
    },
    {
      "cell_type": "code",
      "execution_count": null,
      "id": "54f45089",
      "metadata": {
        "ExecuteTime": {
          "end_time": "2022-04-13T15:41:05.667277Z",
          "start_time": "2022-04-13T15:41:05.650252Z"
        },
        "id": "54f45089"
      },
      "outputs": [],
      "source": [
        "combo = pd.concat([nam,sam],ignore_index=True)"
      ]
    },
    {
      "cell_type": "code",
      "execution_count": null,
      "id": "c3863c7f",
      "metadata": {
        "ExecuteTime": {
          "end_time": "2022-04-13T15:40:20.511476Z",
          "start_time": "2022-04-13T15:40:20.493458Z"
        },
        "id": "c3863c7f"
      },
      "outputs": [],
      "source": [
        "region = ['north','north','north','south']"
      ]
    },
    {
      "cell_type": "code",
      "execution_count": null,
      "id": "5c9ac442",
      "metadata": {
        "ExecuteTime": {
          "end_time": "2022-04-13T15:41:21.723916Z",
          "start_time": "2022-04-13T15:41:21.713395Z"
        },
        "id": "5c9ac442"
      },
      "outputs": [],
      "source": [
        "combo['region'] = region"
      ]
    },
    {
      "cell_type": "code",
      "execution_count": null,
      "id": "93d18a04",
      "metadata": {
        "ExecuteTime": {
          "end_time": "2022-04-13T15:41:25.234759Z",
          "start_time": "2022-04-13T15:41:25.159000Z"
        },
        "id": "93d18a04",
        "outputId": "b53f1d76-27d5-4162-8fd8-4d5d276e3ddd"
      },
      "outputs": [
        {
          "data": {
            "text/html": [
              "<div>\n",
              "<style scoped>\n",
              "    .dataframe tbody tr th:only-of-type {\n",
              "        vertical-align: middle;\n",
              "    }\n",
              "\n",
              "    .dataframe tbody tr th {\n",
              "        vertical-align: top;\n",
              "    }\n",
              "\n",
              "    .dataframe thead th {\n",
              "        text-align: right;\n",
              "    }\n",
              "</style>\n",
              "<table border=\"1\" class=\"dataframe\">\n",
              "  <thead>\n",
              "    <tr style=\"text-align: right;\">\n",
              "      <th></th>\n",
              "      <th>Country</th>\n",
              "      <th>2000</th>\n",
              "      <th>2001</th>\n",
              "      <th>2002</th>\n",
              "      <th>2003</th>\n",
              "      <th>2004</th>\n",
              "      <th>2005</th>\n",
              "      <th>2006</th>\n",
              "      <th>2007</th>\n",
              "      <th>2008</th>\n",
              "      <th>2009</th>\n",
              "      <th>2010</th>\n",
              "      <th>region</th>\n",
              "    </tr>\n",
              "  </thead>\n",
              "  <tbody>\n",
              "    <tr>\n",
              "      <th>0</th>\n",
              "      <td>Canada</td>\n",
              "      <td>1779.0</td>\n",
              "      <td>1771.0</td>\n",
              "      <td>1754.0</td>\n",
              "      <td>1740.0</td>\n",
              "      <td>1760.0</td>\n",
              "      <td>1747</td>\n",
              "      <td>1745.0</td>\n",
              "      <td>1741.0</td>\n",
              "      <td>1735</td>\n",
              "      <td>1701.0</td>\n",
              "      <td>1703.0</td>\n",
              "      <td>north</td>\n",
              "    </tr>\n",
              "    <tr>\n",
              "      <th>1</th>\n",
              "      <td>Mexico</td>\n",
              "      <td>2311.2</td>\n",
              "      <td>2285.2</td>\n",
              "      <td>2271.2</td>\n",
              "      <td>2276.5</td>\n",
              "      <td>2270.6</td>\n",
              "      <td>2281</td>\n",
              "      <td>2280.6</td>\n",
              "      <td>2261.4</td>\n",
              "      <td>2258</td>\n",
              "      <td>2250.2</td>\n",
              "      <td>2242.4</td>\n",
              "      <td>north</td>\n",
              "    </tr>\n",
              "    <tr>\n",
              "      <th>2</th>\n",
              "      <td>USA</td>\n",
              "      <td>1836.0</td>\n",
              "      <td>1814.0</td>\n",
              "      <td>1810.0</td>\n",
              "      <td>1800.0</td>\n",
              "      <td>1802.0</td>\n",
              "      <td>1799</td>\n",
              "      <td>1800.0</td>\n",
              "      <td>1798.0</td>\n",
              "      <td>1792</td>\n",
              "      <td>1767.0</td>\n",
              "      <td>1778.0</td>\n",
              "      <td>north</td>\n",
              "    </tr>\n",
              "    <tr>\n",
              "      <th>3</th>\n",
              "      <td>Chile</td>\n",
              "      <td>2263.0</td>\n",
              "      <td>2242.0</td>\n",
              "      <td>2250.0</td>\n",
              "      <td>2235.0</td>\n",
              "      <td>2232.0</td>\n",
              "      <td>2157</td>\n",
              "      <td>2165.0</td>\n",
              "      <td>2128.0</td>\n",
              "      <td>2095</td>\n",
              "      <td>2074.0</td>\n",
              "      <td>2069.6</td>\n",
              "      <td>south</td>\n",
              "    </tr>\n",
              "  </tbody>\n",
              "</table>\n",
              "</div>"
            ],
            "text/plain": [
              "  Country    2000    2001    2002    2003    2004  2005    2006    2007  2008  \\\n",
              "0  Canada  1779.0  1771.0  1754.0  1740.0  1760.0  1747  1745.0  1741.0  1735   \n",
              "1  Mexico  2311.2  2285.2  2271.2  2276.5  2270.6  2281  2280.6  2261.4  2258   \n",
              "2     USA  1836.0  1814.0  1810.0  1800.0  1802.0  1799  1800.0  1798.0  1792   \n",
              "3   Chile  2263.0  2242.0  2250.0  2235.0  2232.0  2157  2165.0  2128.0  2095   \n",
              "\n",
              "     2009    2010 region  \n",
              "0  1701.0  1703.0  north  \n",
              "1  2250.2  2242.4  north  \n",
              "2  1767.0  1778.0  north  \n",
              "3  2074.0  2069.6  south  "
            ]
          },
          "execution_count": 10,
          "metadata": {},
          "output_type": "execute_result"
        }
      ],
      "source": [
        "combo"
      ]
    },
    {
      "cell_type": "code",
      "execution_count": null,
      "id": "1a40d74d",
      "metadata": {
        "ExecuteTime": {
          "end_time": "2022-04-13T15:44:11.673026Z",
          "start_time": "2022-04-13T15:44:11.660547Z"
        },
        "id": "1a40d74d"
      },
      "outputs": [],
      "source": [
        "combo['continent'] = 'Americas'"
      ]
    },
    {
      "cell_type": "code",
      "execution_count": null,
      "id": "6bd06519",
      "metadata": {
        "ExecuteTime": {
          "end_time": "2022-04-13T15:44:15.026564Z",
          "start_time": "2022-04-13T15:44:14.933851Z"
        },
        "id": "6bd06519",
        "outputId": "8bd09088-1001-429e-848e-93301db76993"
      },
      "outputs": [
        {
          "data": {
            "text/html": [
              "<div>\n",
              "<style scoped>\n",
              "    .dataframe tbody tr th:only-of-type {\n",
              "        vertical-align: middle;\n",
              "    }\n",
              "\n",
              "    .dataframe tbody tr th {\n",
              "        vertical-align: top;\n",
              "    }\n",
              "\n",
              "    .dataframe thead th {\n",
              "        text-align: right;\n",
              "    }\n",
              "</style>\n",
              "<table border=\"1\" class=\"dataframe\">\n",
              "  <thead>\n",
              "    <tr style=\"text-align: right;\">\n",
              "      <th></th>\n",
              "      <th>Country</th>\n",
              "      <th>2000</th>\n",
              "      <th>2001</th>\n",
              "      <th>2002</th>\n",
              "      <th>2003</th>\n",
              "      <th>2004</th>\n",
              "      <th>2005</th>\n",
              "      <th>2006</th>\n",
              "      <th>2007</th>\n",
              "      <th>2008</th>\n",
              "      <th>2009</th>\n",
              "      <th>2010</th>\n",
              "      <th>region</th>\n",
              "      <th>continent</th>\n",
              "    </tr>\n",
              "  </thead>\n",
              "  <tbody>\n",
              "    <tr>\n",
              "      <th>0</th>\n",
              "      <td>Canada</td>\n",
              "      <td>1779.0</td>\n",
              "      <td>1771.0</td>\n",
              "      <td>1754.0</td>\n",
              "      <td>1740.0</td>\n",
              "      <td>1760.0</td>\n",
              "      <td>1747</td>\n",
              "      <td>1745.0</td>\n",
              "      <td>1741.0</td>\n",
              "      <td>1735</td>\n",
              "      <td>1701.0</td>\n",
              "      <td>1703.0</td>\n",
              "      <td>north</td>\n",
              "      <td>Americas</td>\n",
              "    </tr>\n",
              "    <tr>\n",
              "      <th>1</th>\n",
              "      <td>Mexico</td>\n",
              "      <td>2311.2</td>\n",
              "      <td>2285.2</td>\n",
              "      <td>2271.2</td>\n",
              "      <td>2276.5</td>\n",
              "      <td>2270.6</td>\n",
              "      <td>2281</td>\n",
              "      <td>2280.6</td>\n",
              "      <td>2261.4</td>\n",
              "      <td>2258</td>\n",
              "      <td>2250.2</td>\n",
              "      <td>2242.4</td>\n",
              "      <td>north</td>\n",
              "      <td>Americas</td>\n",
              "    </tr>\n",
              "    <tr>\n",
              "      <th>2</th>\n",
              "      <td>USA</td>\n",
              "      <td>1836.0</td>\n",
              "      <td>1814.0</td>\n",
              "      <td>1810.0</td>\n",
              "      <td>1800.0</td>\n",
              "      <td>1802.0</td>\n",
              "      <td>1799</td>\n",
              "      <td>1800.0</td>\n",
              "      <td>1798.0</td>\n",
              "      <td>1792</td>\n",
              "      <td>1767.0</td>\n",
              "      <td>1778.0</td>\n",
              "      <td>north</td>\n",
              "      <td>Americas</td>\n",
              "    </tr>\n",
              "    <tr>\n",
              "      <th>3</th>\n",
              "      <td>Chile</td>\n",
              "      <td>2263.0</td>\n",
              "      <td>2242.0</td>\n",
              "      <td>2250.0</td>\n",
              "      <td>2235.0</td>\n",
              "      <td>2232.0</td>\n",
              "      <td>2157</td>\n",
              "      <td>2165.0</td>\n",
              "      <td>2128.0</td>\n",
              "      <td>2095</td>\n",
              "      <td>2074.0</td>\n",
              "      <td>2069.6</td>\n",
              "      <td>south</td>\n",
              "      <td>Americas</td>\n",
              "    </tr>\n",
              "  </tbody>\n",
              "</table>\n",
              "</div>"
            ],
            "text/plain": [
              "  Country    2000    2001    2002    2003    2004  2005    2006    2007  2008  \\\n",
              "0  Canada  1779.0  1771.0  1754.0  1740.0  1760.0  1747  1745.0  1741.0  1735   \n",
              "1  Mexico  2311.2  2285.2  2271.2  2276.5  2270.6  2281  2280.6  2261.4  2258   \n",
              "2     USA  1836.0  1814.0  1810.0  1800.0  1802.0  1799  1800.0  1798.0  1792   \n",
              "3   Chile  2263.0  2242.0  2250.0  2235.0  2232.0  2157  2165.0  2128.0  2095   \n",
              "\n",
              "     2009    2010 region continent  \n",
              "0  1701.0  1703.0  north  Americas  \n",
              "1  2250.2  2242.4  north  Americas  \n",
              "2  1767.0  1778.0  north  Americas  \n",
              "3  2074.0  2069.6  south  Americas  "
            ]
          },
          "execution_count": 12,
          "metadata": {},
          "output_type": "execute_result"
        }
      ],
      "source": [
        "combo"
      ]
    },
    {
      "cell_type": "code",
      "execution_count": null,
      "id": "197a6a6b",
      "metadata": {
        "id": "197a6a6b"
      },
      "outputs": [],
      "source": [
        ""
      ]
    }
  ],
  "metadata": {
    "kernelspec": {
      "display_name": "Python 3",
      "language": "python",
      "name": "python3"
    },
    "language_info": {
      "codemirror_mode": {
        "name": "ipython",
        "version": 3
      },
      "file_extension": ".py",
      "mimetype": "text/x-python",
      "name": "python",
      "nbconvert_exporter": "python",
      "pygments_lexer": "ipython3",
      "version": "3.8.8"
    },
    "toc": {
      "base_numbering": 1,
      "nav_menu": {},
      "number_sections": true,
      "sideBar": true,
      "skip_h1_title": true,
      "title_cell": "Table of Contents",
      "title_sidebar": "Contents",
      "toc_cell": false,
      "toc_position": {},
      "toc_section_display": true,
      "toc_window_display": false
    },
    "colab": {
      "name": "DEMO_6_OECD_CONCAT.ipynb",
      "provenance": [],
      "include_colab_link": true
    }
  },
  "nbformat": 4,
  "nbformat_minor": 5
}